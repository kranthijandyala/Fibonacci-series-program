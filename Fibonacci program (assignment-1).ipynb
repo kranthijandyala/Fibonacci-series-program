{
 "cells": [
  {
   "cell_type": "markdown",
   "id": "20b67f2a",
   "metadata": {},
   "source": [
    "# Write a Python program to get the Fibonacci series between 0 to 50\n"
   ]
  },
  {
   "cell_type": "code",
   "execution_count": 8,
   "id": "ca55742f",
   "metadata": {},
   "outputs": [
    {
     "name": "stdout",
     "output_type": "stream",
     "text": [
      "enter the length of fibonacci sequence10\n",
      "0 1 1 2 3 5 8 13 21 34 "
     ]
    }
   ],
   "source": [
    "n=int(input(\"enter the length of fibonacci sequence\"))\n",
    "\n",
    "n1=0\n",
    "n2=1\n",
    "count=2\n",
    "\n",
    "if n<0:\n",
    "    print(\"enter on;ly positive values\")\n",
    "elif n==1:\n",
    "    print(n1)\n",
    "else:\n",
    "    print(n1, end=\" \")\n",
    "    print(n2, end=\" \")\n",
    "    while count<n:\n",
    "        n3=n1+n2\n",
    "        print(n3, end=\" \")\n",
    "        count+=1\n",
    "        n1=n2\n",
    "        n2=n3"
   ]
  },
  {
   "cell_type": "code",
   "execution_count": null,
   "id": "3777bff8",
   "metadata": {},
   "outputs": [],
   "source": []
  }
 ],
 "metadata": {
  "kernelspec": {
   "display_name": "Python 3 (ipykernel)",
   "language": "python",
   "name": "python3"
  },
  "language_info": {
   "codemirror_mode": {
    "name": "ipython",
    "version": 3
   },
   "file_extension": ".py",
   "mimetype": "text/x-python",
   "name": "python",
   "nbconvert_exporter": "python",
   "pygments_lexer": "ipython3",
   "version": "3.9.13"
  }
 },
 "nbformat": 4,
 "nbformat_minor": 5
}
